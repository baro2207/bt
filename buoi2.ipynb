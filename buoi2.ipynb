{
 "cells": [
  {
   "metadata": {},
   "cell_type": "markdown",
   "source": "",
   "id": "7c1727407e6cdcde"
  },
  {
   "metadata": {},
   "cell_type": "markdown",
   "source": "1. Write a Python program to calculate the length of a string",
   "id": "f1755856641f1fa9"
  },
  {
   "metadata": {
    "ExecuteTime": {
     "end_time": "2025-04-04T15:52:18.063689Z",
     "start_time": "2025-04-04T15:52:18.057936Z"
    }
   },
   "cell_type": "code",
   "source": [
    "x = \"hello\"\n",
    "print(len(x))"
   ],
   "id": "663c3e13984299f5",
   "outputs": [
    {
     "name": "stdout",
     "output_type": "stream",
     "text": [
      "5\n"
     ]
    }
   ],
   "execution_count": 48
  },
  {
   "metadata": {},
   "cell_type": "markdown",
   "source": [
    "2. Write a Python program to count the number of characters (character frequency) in a string.\n",
    "Sample String : google.com'\n",
    "Expected Result : {'g': 2, 'o': 3, 'l': 1, 'e': 1, '.': 1, 'c': 1, 'm': 1}\n"
   ],
   "id": "a8e46853355ffc37"
  },
  {
   "metadata": {
    "ExecuteTime": {
     "end_time": "2025-04-04T15:52:19.528125Z",
     "start_time": "2025-04-04T15:52:19.520492Z"
    }
   },
   "cell_type": "code",
   "source": [
    "x = \"google.com\"\n",
    "result = {}\n",
    "for char in x:\n",
    "    result[char] = result.get(char, 0) + 1\n",
    "print(result)\n"
   ],
   "id": "cbe066e923da191f",
   "outputs": [
    {
     "name": "stdout",
     "output_type": "stream",
     "text": [
      "{'g': 2, 'o': 3, 'l': 1, 'e': 1, '.': 1, 'c': 1, 'm': 1}\n"
     ]
    }
   ],
   "execution_count": 49
  },
  {
   "metadata": {},
   "cell_type": "markdown",
   "source": [
    "3. Write a Python program to get a string made of the first 2 and last 2 characters of a given\n",
    "string. If the string length is less than 2, return the empty string instead."
   ],
   "id": "e6f33550fbae126f"
  },
  {
   "metadata": {
    "ExecuteTime": {
     "end_time": "2025-04-04T15:50:54.168865Z",
     "start_time": "2025-04-04T15:50:54.163043Z"
    }
   },
   "cell_type": "code",
   "source": [
    "x = \"python\"\n",
    "if len(x) < 2:\n",
    "    print(\"\")\n",
    "else:\n",
    "    print(x[0:2]+ x[-2:])"
   ],
   "id": "71ff50cc2f92d2f4",
   "outputs": [
    {
     "name": "stdout",
     "output_type": "stream",
     "text": [
      "pyon\n"
     ]
    }
   ],
   "execution_count": 47
  },
  {
   "metadata": {},
   "cell_type": "markdown",
   "source": [
    "4. Write a Python program to get a string from a given string where all occurrences of its first\n",
    "char have been changed to '$', except the first char itself."
   ],
   "id": "8c5a803afd5ff923"
  },
  {
   "metadata": {
    "ExecuteTime": {
     "end_time": "2025-04-04T15:49:58.398385Z",
     "start_time": "2025-04-04T15:49:58.393217Z"
    }
   },
   "cell_type": "code",
   "source": [
    "x = \"restart\"\n",
    "first_char = x[0]\n",
    "result = first_char + x[1:].replace(first_char, \"$\")\n",
    "print(result)"
   ],
   "id": "e3f95d34bd503ca5",
   "outputs": [
    {
     "name": "stdout",
     "output_type": "stream",
     "text": [
      "resta$t\n"
     ]
    }
   ],
   "execution_count": 46
  },
  {
   "metadata": {},
   "cell_type": "markdown",
   "source": [
    "5.Write a Python program to get a single string from two given strings, separated by a space and\n",
    "swap the first two characters of each string."
   ],
   "id": "5ef53e4df5853e2d"
  },
  {
   "metadata": {
    "ExecuteTime": {
     "end_time": "2025-04-04T15:52:23.557972Z",
     "start_time": "2025-04-04T15:52:23.552495Z"
    }
   },
   "cell_type": "code",
   "source": [
    "a = [\"abc\", \"xyz\"]\n",
    "b = a[0]\n",
    "a[0] = a[0].replace(a[0][-1],a[1][-1])\n",
    "a[1] = a[1].replace(a[1][-1],b[-1])\n",
    "print(a[1] + \" \" + a[0])"
   ],
   "id": "c4c98dbe5e0a19c",
   "outputs": [
    {
     "name": "stdout",
     "output_type": "stream",
     "text": [
      "xyc abz\n"
     ]
    }
   ],
   "execution_count": 50
  },
  {
   "metadata": {},
   "cell_type": "markdown",
   "source": [
    "6. Write a Python program to add 'ing' at the end of a given strin (length should be at least 3). If the given string already ends with 'ing', add 'ly' instead. If the string length of the given string is\n",
    "less than 3, leave it unchanged."
   ],
   "id": "c96994ebf8edeaf9"
  },
  {
   "metadata": {
    "ExecuteTime": {
     "end_time": "2025-04-04T15:56:03.773940Z",
     "start_time": "2025-04-04T15:56:03.770078Z"
    }
   },
   "cell_type": "code",
   "source": [
    "x = \"string\"\n",
    "if x[-3:] == \"ing\":\n",
    "    if len(x) < 4:\n",
    "        print(x + \"ly\")\n",
    "    else:\n",
    "        print(x + \"ing\")\n",
    "else:\n",
    "    print(x)"
   ],
   "id": "b19a4b002509708f",
   "outputs": [
    {
     "name": "stdout",
     "output_type": "stream",
     "text": [
      "stringing\n"
     ]
    }
   ],
   "execution_count": 63
  },
  {
   "metadata": {},
   "cell_type": "markdown",
   "source": [
    "7. Write a Python program to find the first appearance of the substrings 'not' and 'poor' in a given\n",
    "string. If 'not' follows 'poor', replace the whole 'not'...'poor' substring with 'good'. Return the\n",
    "resulting string"
   ],
   "id": "91b67ce7e75a3d36"
  },
  {
   "metadata": {
    "ExecuteTime": {
     "end_time": "2025-04-04T15:54:08.841279Z",
     "start_time": "2025-04-04T15:54:08.834543Z"
    }
   },
   "cell_type": "code",
   "source": [
    "x = ['The lyrics is not that poor!','The lyrics is poor!']\n",
    "for sentence in x:\n",
    "    not_index = sentence.find('not')\n",
    "    poor_index = sentence.find('poor')\n",
    "    if not_index != -1 and poor_index != -1 and not_index < poor_index:\n",
    "        print(sentence[0:not_index] +'good'+ sentence[poor_index+4:])\n",
    "    else: print(sentence)"
   ],
   "id": "3ba2c5c91e6b72bd",
   "outputs": [
    {
     "name": "stdout",
     "output_type": "stream",
     "text": [
      "The lyrics is good!\n",
      "The lyrics is poor!\n"
     ]
    }
   ],
   "execution_count": 60
  },
  {
   "metadata": {},
   "cell_type": "markdown",
   "source": [
    "8.Write a Python function that takes a list of words and return the longest word and the length\n",
    "of the longest one.\n"
   ],
   "id": "75dacb168438e147"
  },
  {
   "metadata": {
    "ExecuteTime": {
     "end_time": "2025-04-04T15:56:08.975787Z",
     "start_time": "2025-04-04T15:56:08.970779Z"
    }
   },
   "cell_type": "code",
   "source": [
    "words = \"abc defg hylmn\".split()\n",
    "longest_word = max(words, key=len)\n",
    "print(\"longest word is:\", longest_word)\n",
    "print(\"length of longest word is:\", len(longest_word))"
   ],
   "id": "ea8a666c5abd530e",
   "outputs": [
    {
     "name": "stdout",
     "output_type": "stream",
     "text": [
      "longest word is: hylmn\n",
      "length of longest word is: 5\n"
     ]
    }
   ],
   "execution_count": 64
  },
  {
   "metadata": {},
   "cell_type": "markdown",
   "source": "9. Write a Python program to remove the nth index character from a nonempty string",
   "id": "fef1711c2a413b8e"
  },
  {
   "metadata": {
    "ExecuteTime": {
     "end_time": "2025-04-04T15:56:10.431317Z",
     "start_time": "2025-04-04T15:56:10.425993Z"
    }
   },
   "cell_type": "code",
   "source": [
    "x = \"abcdef\"\n",
    "n = int(4)\n",
    "if 0 < n < len(x):\n",
    "    print(x[0:n]+ x[n+1:])\n"
   ],
   "id": "bdfb14cafeef62a0",
   "outputs": [
    {
     "name": "stdout",
     "output_type": "stream",
     "text": [
      "abcdf\n"
     ]
    }
   ],
   "execution_count": 65
  },
  {
   "metadata": {},
   "cell_type": "markdown",
   "source": [
    "10. Write a Python program to change a given string to a newly string where the first and last\n",
    "chars have been exchanged."
   ],
   "id": "acc712153b717b63"
  },
  {
   "metadata": {
    "ExecuteTime": {
     "end_time": "2025-04-04T15:56:11.735701Z",
     "start_time": "2025-04-04T15:56:11.730943Z"
    }
   },
   "cell_type": "code",
   "source": [
    "x = \"abcd\"\n",
    "print(x[-1:]+x[1:-1] + x[0])"
   ],
   "id": "8d50d374df25b401",
   "outputs": [
    {
     "name": "stdout",
     "output_type": "stream",
     "text": [
      "dbca\n"
     ]
    }
   ],
   "execution_count": 66
  },
  {
   "metadata": {},
   "cell_type": "markdown",
   "source": "11.Write a Python program to remove characters that have odd index values in a given string.",
   "id": "204caeb2e20d3fff"
  },
  {
   "metadata": {
    "ExecuteTime": {
     "end_time": "2025-04-04T15:56:13.210782Z",
     "start_time": "2025-04-04T15:56:13.205189Z"
    }
   },
   "cell_type": "code",
   "source": [
    "x = \"abcde\"\n",
    "print(x[::2])"
   ],
   "id": "69a7801be7319cf8",
   "outputs": [
    {
     "name": "stdout",
     "output_type": "stream",
     "text": [
      "ace\n"
     ]
    }
   ],
   "execution_count": 67
  },
  {
   "metadata": {},
   "cell_type": "markdown",
   "source": "12. Write a Python program to count the occurrences of each word in a given sentence.",
   "id": "5380308e6946976f"
  },
  {
   "metadata": {
    "ExecuteTime": {
     "end_time": "2025-04-04T15:56:14.276821Z",
     "start_time": "2025-04-04T15:56:14.272314Z"
    }
   },
   "cell_type": "code",
   "source": [
    "from collections import Counter\n",
    "x = \"anh trai say hai\"\n",
    "words = x.split()\n",
    "wordcount = Counter(words)\n",
    "print(dict(wordcount))\n"
   ],
   "id": "8f9d681ad9a73ea5",
   "outputs": [
    {
     "name": "stdout",
     "output_type": "stream",
     "text": [
      "{'anh': 1, 'trai': 1, 'say': 1, 'hai': 1}\n"
     ]
    }
   ],
   "execution_count": 68
  },
  {
   "metadata": {},
   "cell_type": "markdown",
   "source": [
    "13. Write a Python script that takes input from the user and displays that input back in upper\n",
    "and lower cases."
   ],
   "id": "c2df5655bc9023a9"
  },
  {
   "metadata": {
    "ExecuteTime": {
     "end_time": "2025-04-04T15:56:16.071981Z",
     "start_time": "2025-04-04T15:56:16.066703Z"
    }
   },
   "cell_type": "code",
   "source": [
    "x = \"python\"\n",
    "print(x.upper())\n",
    "print(x.lower())"
   ],
   "id": "4de70e4de3054d5f",
   "outputs": [
    {
     "name": "stdout",
     "output_type": "stream",
     "text": [
      "PYTHON\n",
      "python\n"
     ]
    }
   ],
   "execution_count": 69
  },
  {
   "metadata": {},
   "cell_type": "markdown",
   "source": [
    "14. Write a Python program that accepts a comma-separated sequence of words as input and\n",
    "prints the distinct words in sorted form (alphanumerically)."
   ],
   "id": "730dd137e0bc7c7b"
  },
  {
   "metadata": {
    "ExecuteTime": {
     "end_time": "2025-04-04T15:56:17.461405Z",
     "start_time": "2025-04-04T15:56:17.455889Z"
    }
   },
   "cell_type": "code",
   "source": [
    "words = [\"banana\", \"apple\", \"cherry\", \"orange\", \"grape\"]\n",
    "words = [word.strip() for word in words]\n",
    "word_sorted = sorted(words)\n",
    "print(word_sorted)"
   ],
   "id": "56c64d9318e94fd9",
   "outputs": [
    {
     "name": "stdout",
     "output_type": "stream",
     "text": [
      "['apple', 'banana', 'cherry', 'grape', 'orange']\n"
     ]
    }
   ],
   "execution_count": 70
  },
  {
   "metadata": {},
   "cell_type": "markdown",
   "source": "15. Write a Python function to create an HTML string with tags around the word(s)",
   "id": "8f285bf99e1222ba"
  },
  {
   "metadata": {
    "ExecuteTime": {
     "end_time": "2025-04-04T15:56:19.034300Z",
     "start_time": "2025-04-04T15:56:19.029461Z"
    }
   },
   "cell_type": "code",
   "source": [
    "def add_tags(tag, word):\n",
    "    return f\"<{tag}>{word}</{tag}>\"\n",
    "\n",
    "# Test hàm\n",
    "print(add_tags('i', 'Python'))\n",
    "print(add_tags('b', 'Python Tutorial'))"
   ],
   "id": "6c14e69a82f612f2",
   "outputs": [
    {
     "name": "stdout",
     "output_type": "stream",
     "text": [
      "<i>Python</i>\n",
      "<b>Python Tutorial</b>\n"
     ]
    }
   ],
   "execution_count": 71
  },
  {
   "metadata": {},
   "cell_type": "markdown",
   "source": "16. Write a Python function to insert a string in the middle of a string.\n",
   "id": "93371bda13822e67"
  },
  {
   "metadata": {
    "ExecuteTime": {
     "end_time": "2025-04-04T15:56:33.928267Z",
     "start_time": "2025-04-04T15:56:33.923246Z"
    }
   },
   "cell_type": "code",
   "source": [
    "def insert_middle_string(wrapper, word):\n",
    "    mid = len(wrapper) // 2\n",
    "    return wrapper[:mid] +word+ wrapper[mid:]\n",
    "print(insert_middle_string('[[]]', 'Python'))\n",
    "print(insert_middle_string('{{}}', 'Python'))"
   ],
   "id": "7849b7f87632a2b4",
   "outputs": [
    {
     "name": "stdout",
     "output_type": "stream",
     "text": [
      "[[Python]]\n",
      "{{Python}}\n"
     ]
    }
   ],
   "execution_count": 72
  },
  {
   "metadata": {},
   "cell_type": "markdown",
   "source": [
    "17. Write a Python function to get a string made of 4 copies of the last two characters of a\n",
    "specified string (length must be at least 2)."
   ],
   "id": "855bc3b36115c9d"
  },
  {
   "metadata": {
    "ExecuteTime": {
     "end_time": "2025-04-04T15:56:50.352491Z",
     "start_time": "2025-04-04T15:56:50.347700Z"
    }
   },
   "cell_type": "code",
   "source": [
    "def insert_end(string):\n",
    "    if len(string) < 2:\n",
    "        return \"length must be at least 2\"\n",
    "    else:\n",
    "        two_char = string[-2:]\n",
    "        return two_char * 4\n",
    "print(insert_end(\"python\"))\n",
    "print(insert_end(\"Exercises\"))"
   ],
   "id": "f25261a15c458428",
   "outputs": [
    {
     "name": "stdout",
     "output_type": "stream",
     "text": [
      "onononon\n",
      "eseseses\n"
     ]
    }
   ],
   "execution_count": 73
  },
  {
   "metadata": {},
   "cell_type": "markdown",
   "source": [
    "18. Write a Python function to get a string made of the first three characters of a specified string.\n",
    "If the length of the string is less than 3, return the original string.\n"
   ],
   "id": "57eab90bc089628b"
  },
  {
   "metadata": {
    "ExecuteTime": {
     "end_time": "2025-04-04T15:56:52.286457Z",
     "start_time": "2025-04-04T15:56:52.280426Z"
    }
   },
   "cell_type": "code",
   "source": [
    "def first_three(string):\n",
    "    if len(string) < 3:\n",
    "        return string\n",
    "    else:\n",
    "        return string[:3]\n",
    "print(first_three(\"python\"))\n",
    "print(first_three(\"ipy\"))"
   ],
   "id": "79f960c4b8520fe9",
   "outputs": [
    {
     "name": "stdout",
     "output_type": "stream",
     "text": [
      "pyt\n",
      "ipy\n"
     ]
    }
   ],
   "execution_count": 74
  },
  {
   "metadata": {},
   "cell_type": "markdown",
   "source": [
    "19.Write a Python program to get the last part of a string before a specified character.\n",
    "https://www.w3resource.com/python-exercises\n",
    "https://www.w3resource.com/python"
   ],
   "id": "e410966f2f2dfd39"
  },
  {
   "metadata": {
    "ExecuteTime": {
     "end_time": "2025-04-04T15:56:53.724574Z",
     "start_time": "2025-04-04T15:56:53.718428Z"
    }
   },
   "cell_type": "code",
   "source": [
    "x = \"https://www.w3resource.com/python-exercises\"\n",
    "print(x.rsplit(\"-\",1)[0])"
   ],
   "id": "db65db058b99fe59",
   "outputs": [
    {
     "name": "stdout",
     "output_type": "stream",
     "text": [
      "https://www.w3resource.com/python\n"
     ]
    }
   ],
   "execution_count": 75
  },
  {
   "metadata": {},
   "cell_type": "markdown",
   "source": "20. Write a Python function to reverse a string if its length is a multiple of 4.",
   "id": "bba38cbb05b37eb1"
  },
  {
   "metadata": {
    "ExecuteTime": {
     "end_time": "2025-04-04T15:56:54.805333Z",
     "start_time": "2025-04-04T15:56:54.799614Z"
    }
   },
   "cell_type": "code",
   "source": [
    "def reserve_string(string):\n",
    "    if len(string) % 4 == 0:\n",
    "        return string[::-1]\n",
    "    else:\n",
    "        return string\n",
    "print(reserve_string(\"python\"))\n",
    "print(reserve_string(\"abcd\"))"
   ],
   "id": "23dca1540083ddd2",
   "outputs": [
    {
     "name": "stdout",
     "output_type": "stream",
     "text": [
      "python\n",
      "dcba\n"
     ]
    }
   ],
   "execution_count": 76
  },
  {
   "metadata": {},
   "cell_type": "markdown",
   "source": [
    "21. Write a Python function to convert a given string to all uppercase if it contains at least 2\n",
    "uppercase characters in the first 4 characters."
   ],
   "id": "157b46d01d406d78"
  },
  {
   "metadata": {
    "ExecuteTime": {
     "end_time": "2025-04-04T15:56:56.234916Z",
     "start_time": "2025-04-04T15:56:56.229132Z"
    }
   },
   "cell_type": "code",
   "source": [
    "def convert_string_uppercase(string):\n",
    "    sum_uppercase = sum(1 for char in string[:4] if char.isupper())\n",
    "    if sum_uppercase >= 2:\n",
    "        return string.upper()\n",
    "    return string\n",
    "print(convert_string_uppercase(\"python\"))\n",
    "print(convert_string_uppercase(\"ABcdef\"))"
   ],
   "id": "917beba77d502d04",
   "outputs": [
    {
     "name": "stdout",
     "output_type": "stream",
     "text": [
      "python\n",
      "ABCDEF\n"
     ]
    }
   ],
   "execution_count": 77
  },
  {
   "metadata": {},
   "cell_type": "markdown",
   "source": "22.Write a Python program to sort a string lexicographically",
   "id": "f79584efa880182c"
  },
  {
   "metadata": {
    "ExecuteTime": {
     "end_time": "2025-04-04T15:56:57.731227Z",
     "start_time": "2025-04-04T15:56:57.725716Z"
    }
   },
   "cell_type": "code",
   "source": [
    "x = \"python\"\n",
    "print(''.join(sorted(x)))"
   ],
   "id": "234a986cca12a4ea",
   "outputs": [
    {
     "name": "stdout",
     "output_type": "stream",
     "text": [
      "hnopty\n"
     ]
    }
   ],
   "execution_count": 78
  },
  {
   "metadata": {},
   "cell_type": "markdown",
   "source": "23. Write a Python program to remove a newline in Python",
   "id": "c780149846e4e687"
  },
  {
   "metadata": {
    "ExecuteTime": {
     "end_time": "2025-04-04T15:57:01.713198Z",
     "start_time": "2025-04-04T15:57:01.708532Z"
    }
   },
   "cell_type": "code",
   "source": [
    "x = \"python\\n\"\n",
    "print(x.strip())"
   ],
   "id": "e0cc971f59472127",
   "outputs": [
    {
     "name": "stdout",
     "output_type": "stream",
     "text": [
      "python\n"
     ]
    }
   ],
   "execution_count": 79
  },
  {
   "metadata": {},
   "cell_type": "markdown",
   "source": "24. Write a Python program to check whether a string starts with specified characters.\n",
   "id": "b4e12aa63f900b6"
  },
  {
   "metadata": {
    "ExecuteTime": {
     "end_time": "2025-04-04T15:57:03.196546Z",
     "start_time": "2025-04-04T15:57:03.190932Z"
    }
   },
   "cell_type": "code",
   "source": [
    "text = \"Hello, Python!\"\n",
    "if text.startswith(\"Hello\"):\n",
    "    print(\"Chuỗi bắt đầu bằng 'Hello'\")\n",
    "else:\n",
    "    print(\"Chuỗi không bắt đầu bằng 'Hello'\")"
   ],
   "id": "53f04423faf8bcad",
   "outputs": [
    {
     "name": "stdout",
     "output_type": "stream",
     "text": [
      "Chuỗi bắt đầu bằng 'Hello'\n"
     ]
    }
   ],
   "execution_count": 80
  },
  {
   "metadata": {},
   "cell_type": "markdown",
   "source": "25. Write a Python program to create a Caesar encryption",
   "id": "e7082fc347ca7fd3"
  },
  {
   "metadata": {
    "ExecuteTime": {
     "end_time": "2025-04-04T15:57:40.686167Z",
     "start_time": "2025-04-04T15:57:40.679449Z"
    }
   },
   "cell_type": "code",
   "source": [
    "def caesar_cipher(text, shift):\n",
    "    result = \"\"\n",
    "    for char in text:\n",
    "        if char.isalpha():\n",
    "            shift_base = ord('A') if char.isupper() else ord('a')\n",
    "            result += chr((ord(char) - shift_base + shift) % 26 + shift_base)\n",
    "        else:\n",
    "            result += char\n",
    "    return result\n",
    "\n",
    "text = \"abcd\"\n",
    "shift = int(2)\n",
    "\n",
    "encrypted_text = caesar_cipher(text, shift)\n",
    "print(f\"Văn bản sau khi mã hóa: {encrypted_text}\")\n",
    "\n",
    "decrypted_text = caesar_cipher(encrypted_text, -shift)\n",
    "print(f\"Văn bản sau khi giải mã: {decrypted_text}\")"
   ],
   "id": "f1b490666446c6e",
   "outputs": [
    {
     "name": "stdout",
     "output_type": "stream",
     "text": [
      "Văn bản sau khi mã hóa: cdef\n",
      "Văn bản sau khi giải mã: abcd\n"
     ]
    }
   ],
   "execution_count": 82
  },
  {
   "metadata": {},
   "cell_type": "markdown",
   "source": "26. Write a Python program to display formatted text (width=50) as output.",
   "id": "95df2156e2994bfc"
  },
  {
   "metadata": {
    "ExecuteTime": {
     "end_time": "2025-04-04T15:57:47.196505Z",
     "start_time": "2025-04-04T15:57:47.190626Z"
    }
   },
   "cell_type": "code",
   "source": [
    "import textwrap\n",
    "x = \"26. Write a Python program to display formatted text (width=50) as output.\"\n",
    "print(textwrap.wrap(x, width=50))"
   ],
   "id": "cd0ff1dca13df6b5",
   "outputs": [
    {
     "name": "stdout",
     "output_type": "stream",
     "text": [
      "['26. Write a Python program to display formatted', 'text (width=50) as output.']\n"
     ]
    }
   ],
   "execution_count": 83
  },
  {
   "metadata": {},
   "cell_type": "markdown",
   "source": "27. Write a Python program to remove existing indentation from all of the lines in a given text",
   "id": "967d11ab6190b101"
  },
  {
   "metadata": {
    "ExecuteTime": {
     "end_time": "2025-04-04T15:57:48.733469Z",
     "start_time": "2025-04-04T15:57:48.728698Z"
    }
   },
   "cell_type": "code",
   "source": [
    "import textwrap\n",
    "x = \"\"\"\n",
    "        Python is an interpreted,\n",
    "        high-level and general-purpose programming language.\n",
    "        Python's design philosophy emphasizes code readability.\n",
    "\"\"\"\n",
    "print(textwrap.dedent(x))"
   ],
   "id": "43f3654d322ef548",
   "outputs": [
    {
     "name": "stdout",
     "output_type": "stream",
     "text": [
      "\n",
      "Python is an interpreted,\n",
      "high-level and general-purpose programming language.\n",
      "Python's design philosophy emphasizes code readability.\n",
      "\n"
     ]
    }
   ],
   "execution_count": 84
  },
  {
   "metadata": {},
   "cell_type": "markdown",
   "source": "28. Write a Python program to add prefix text to all of the lines in a string.",
   "id": "b27a97141b9cf287"
  },
  {
   "metadata": {
    "ExecuteTime": {
     "end_time": "2025-04-04T15:57:50.119346Z",
     "start_time": "2025-04-04T15:57:50.114291Z"
    }
   },
   "cell_type": "code",
   "source": [
    "prefix = \">>\"\n",
    "x = \"\"\"Python is fun.\n",
    "Let's learn it together!\n",
    "Code every day.\"\"\"\n",
    "lines = x.splitlines()\n",
    "new_lines = [prefix + line for line in lines]\n",
    "print(\"\\n\".join(new_lines))"
   ],
   "id": "466a3a053d2ff426",
   "outputs": [
    {
     "name": "stdout",
     "output_type": "stream",
     "text": [
      ">>Python is fun.\n",
      ">>Let's learn it together!\n",
      ">>Code every day.\n"
     ]
    }
   ],
   "execution_count": 85
  },
  {
   "metadata": {},
   "cell_type": "markdown",
   "source": "29. Write a Python program to set the indentation of the first line.",
   "id": "5ffe10433d7a91db"
  },
  {
   "metadata": {
    "ExecuteTime": {
     "end_time": "2025-04-04T15:44:54.872028Z",
     "start_time": "2025-04-04T15:44:54.866600Z"
    }
   },
   "cell_type": "code",
   "source": [
    "x = \"\"\"python\n",
    "Python\"\"\"\n",
    "num_tabs = 1\n",
    "lines = x.splitlines()\n",
    "if lines:\n",
    "    lines[0] = '\\t' * num_tabs + lines[0]\n",
    "print(\"\\n\".join(lines))"
   ],
   "id": "e244c37982e14eda",
   "outputs": [
    {
     "name": "stdout",
     "output_type": "stream",
     "text": [
      "\tpython\n",
      "Python\n"
     ]
    }
   ],
   "execution_count": 30
  },
  {
   "metadata": {},
   "cell_type": "markdown",
   "source": "30. Write a Python program to print the following numbers up to 2 decimal places.\n",
   "id": "94a3ddfeacc0ec13"
  },
  {
   "metadata": {
    "ExecuteTime": {
     "end_time": "2025-04-04T15:44:52.806121Z",
     "start_time": "2025-04-04T15:44:52.801992Z"
    }
   },
   "cell_type": "code",
   "source": [
    "nums = [2.345, 1.3446, 3.14]\n",
    "for num in nums:\n",
    "    print(f\"{num:.2f}\")"
   ],
   "id": "b263599e52c7cf6d",
   "outputs": [
    {
     "name": "stdout",
     "output_type": "stream",
     "text": [
      "2.35\n",
      "1.34\n",
      "3.14\n"
     ]
    }
   ],
   "execution_count": 29
  },
  {
   "metadata": {},
   "cell_type": "markdown",
   "source": "31. Write a Python program to print the following numbers up to 2 decimal places with a sign",
   "id": "69bed782f0871019"
  },
  {
   "metadata": {
    "ExecuteTime": {
     "end_time": "2025-04-04T15:44:51.101605Z",
     "start_time": "2025-04-04T15:44:51.095903Z"
    }
   },
   "cell_type": "code",
   "source": [
    "nums = [2.345, -1.3446, 3.14]\n",
    "for num in nums:\n",
    "    print(f\"{num:+.2f}\")"
   ],
   "id": "55c7d79a474893d2",
   "outputs": [
    {
     "name": "stdout",
     "output_type": "stream",
     "text": [
      "+2.35\n",
      "-1.34\n",
      "+3.14\n"
     ]
    }
   ],
   "execution_count": 28
  },
  {
   "metadata": {},
   "cell_type": "markdown",
   "source": [
    "32. Write a Python program to print the following positive and negative numbers with no\n",
    "decimal places."
   ],
   "id": "ce37219ceba4a0d2"
  },
  {
   "metadata": {
    "ExecuteTime": {
     "end_time": "2025-04-04T15:44:49.490583Z",
     "start_time": "2025-04-04T15:44:49.485931Z"
    }
   },
   "cell_type": "code",
   "source": [
    "nums = [2.345, -1.3446, 3.14]\n",
    "for num in nums:\n",
    "    print(f\"{num:+.0f}\")"
   ],
   "id": "b9c849f1e81d13ae",
   "outputs": [
    {
     "name": "stdout",
     "output_type": "stream",
     "text": [
      "+2\n",
      "-1\n",
      "+3\n"
     ]
    }
   ],
   "execution_count": 27
  },
  {
   "metadata": {},
   "cell_type": "markdown",
   "source": [
    "33. Write a Python program to print the following integers with zeros to the left of the specified\n",
    "width.\n"
   ],
   "id": "a144b68d00e975af"
  },
  {
   "metadata": {
    "ExecuteTime": {
     "end_time": "2025-04-04T15:44:47.590212Z",
     "start_time": "2025-04-04T15:44:47.584745Z"
    }
   },
   "cell_type": "code",
   "source": [
    "nums = [1, 2, 3, 4]\n",
    "for num in nums:\n",
    "    print(f\"{num:05d}\")"
   ],
   "id": "f6884228750898b0",
   "outputs": [
    {
     "name": "stdout",
     "output_type": "stream",
     "text": [
      "00001\n",
      "00002\n",
      "00003\n",
      "00004\n"
     ]
    }
   ],
   "execution_count": 26
  },
  {
   "metadata": {},
   "cell_type": "markdown",
   "source": [
    "34. Write a Python program to print the following integers with '*' to the right of the specified\n",
    "width."
   ],
   "id": "f24d1d0fdb0b3157"
  },
  {
   "metadata": {
    "ExecuteTime": {
     "end_time": "2025-04-04T15:44:45.241566Z",
     "start_time": "2025-04-04T15:44:45.234681Z"
    }
   },
   "cell_type": "code",
   "source": [
    "nums = [1, 23, 325, 4123]\n",
    "for num in nums:\n",
    "    print(f\"{num:*<5d}\")"
   ],
   "id": "aa9fe218456f88b7",
   "outputs": [
    {
     "name": "stdout",
     "output_type": "stream",
     "text": [
      "1****\n",
      "23***\n",
      "325**\n",
      "4123*\n"
     ]
    }
   ],
   "execution_count": 25
  },
  {
   "metadata": {},
   "cell_type": "markdown",
   "source": "35. Write a Python program to display a number with a comma separator.",
   "id": "c9fa79a041ef7a74"
  },
  {
   "metadata": {
    "ExecuteTime": {
     "end_time": "2025-04-04T14:26:53.276973Z",
     "start_time": "2025-04-04T14:26:53.269518Z"
    }
   },
   "cell_type": "code",
   "source": [
    "nums = [112, 23333, 325321, 4123]\n",
    "for num in nums:\n",
    "    print(f\"{num:,}\")"
   ],
   "id": "a0ccad09e41afa6f",
   "outputs": [
    {
     "name": "stdout",
     "output_type": "stream",
     "text": [
      "112\n",
      "23,333\n",
      "325,321\n",
      "4,123\n"
     ]
    }
   ],
   "execution_count": 22
  },
  {
   "metadata": {},
   "cell_type": "markdown",
   "source": "36. Write a Python program to format a number with a percentage",
   "id": "280a38d6b0b2e8ab"
  },
  {
   "metadata": {
    "ExecuteTime": {
     "end_time": "2025-04-04T14:17:03.218269Z",
     "start_time": "2025-04-04T14:17:03.211759Z"
    }
   },
   "cell_type": "code",
   "source": [
    "nums = [0.5, 0.725, 2.5]\n",
    "for num in nums:\n",
    "    print(f\"{num:.2%}\")"
   ],
   "id": "7d857e189d0e1eaa",
   "outputs": [
    {
     "name": "stdout",
     "output_type": "stream",
     "text": [
      "50.00%\n",
      "72.50%\n",
      "250.00%\n"
     ]
    }
   ],
   "execution_count": 3
  },
  {
   "metadata": {},
   "cell_type": "markdown",
   "source": [
    "37. Write a Python program to display a number in left, right, and center aligned with a width of\n",
    "10"
   ],
   "id": "feace1638d2520a2"
  },
  {
   "metadata": {
    "ExecuteTime": {
     "end_time": "2025-04-04T14:28:49.817643Z",
     "start_time": "2025-04-04T14:28:49.811229Z"
    }
   },
   "cell_type": "code",
   "source": [
    "num = 10\n",
    "\n",
    "print(f\"Left aligned : {num:<10}\")\n",
    "\n",
    "# Căn phải\n",
    "print(f\"Right aligned: {num:>10}\")\n",
    "\n",
    "# Căn giữa\n",
    "print(f\"Center aligned: {num:^10}\")"
   ],
   "id": "7b96e15d1acd7817",
   "outputs": [
    {
     "name": "stdout",
     "output_type": "stream",
     "text": [
      "Left aligned : 10        \n",
      "Right aligned:         10\n",
      "Center aligned:     10    \n"
     ]
    }
   ],
   "execution_count": 3
  },
  {
   "metadata": {},
   "cell_type": "markdown",
   "source": "38. Write a Python program to count occurrences of a substring in a string",
   "id": "813c806775be779"
  },
  {
   "metadata": {
    "ExecuteTime": {
     "end_time": "2025-04-04T14:38:36.069150Z",
     "start_time": "2025-04-04T14:38:36.059568Z"
    }
   },
   "cell_type": "code",
   "source": [
    "main_string = \"python python python\"\n",
    "sub_string = \"python\"\n",
    "print(main_string.count(sub_string))"
   ],
   "id": "de99facc51b3e10a",
   "outputs": [
    {
     "name": "stdout",
     "output_type": "stream",
     "text": [
      "3\n"
     ]
    }
   ],
   "execution_count": 4
  },
  {
   "metadata": {},
   "cell_type": "markdown",
   "source": "39. Write a Python program to reverse a string",
   "id": "1a89600dc44645d7"
  },
  {
   "metadata": {
    "ExecuteTime": {
     "end_time": "2025-04-04T14:45:46.048651Z",
     "start_time": "2025-04-04T14:45:46.041445Z"
    }
   },
   "cell_type": "code",
   "source": [
    "string = \"python\"\n",
    "print(string[::-1])"
   ],
   "id": "bf4766ef1c273801",
   "outputs": [
    {
     "name": "stdout",
     "output_type": "stream",
     "text": [
      "nohtyp\n"
     ]
    }
   ],
   "execution_count": 5
  },
  {
   "metadata": {},
   "cell_type": "markdown",
   "source": "40. Write a Python program to reverse words in a string.",
   "id": "bf39b695dbc98961"
  },
  {
   "metadata": {
    "ExecuteTime": {
     "end_time": "2025-04-04T14:52:21.507770Z",
     "start_time": "2025-04-04T14:52:21.498817Z"
    }
   },
   "cell_type": "code",
   "source": [
    "string = \"i love python\"\n",
    "words = string.split()\n",
    "reversed_string = \" \".join(reversed(words))\n",
    "print(reversed_string)"
   ],
   "id": "69bd36dc88d78f5f",
   "outputs": [
    {
     "name": "stdout",
     "output_type": "stream",
     "text": [
      "python love i\n"
     ]
    }
   ],
   "execution_count": 8
  },
  {
   "metadata": {},
   "cell_type": "markdown",
   "source": "41. Write a Python program to strip a set of characters from a string.",
   "id": "2c72e583f4ceccf4"
  },
  {
   "metadata": {
    "ExecuteTime": {
     "end_time": "2025-04-04T15:00:54.360085Z",
     "start_time": "2025-04-04T15:00:54.353040Z"
    }
   },
   "cell_type": "code",
   "source": [
    "string = \"i love python\"\n",
    "char_to_strip = \"on\"\n",
    "result = ''.join(char for char in string if char not in char_to_strip)\n",
    "print(result)"
   ],
   "id": "947268989e79def4",
   "outputs": [
    {
     "name": "stdout",
     "output_type": "stream",
     "text": [
      "i lve pyth\n"
     ]
    }
   ],
   "execution_count": 9
  },
  {
   "metadata": {},
   "cell_type": "markdown",
   "source": "42. Write a Python program to count repeated characters in a string.\n",
   "id": "619dd8781a011b83"
  },
  {
   "metadata": {
    "ExecuteTime": {
     "end_time": "2025-04-04T15:14:48.549499Z",
     "start_time": "2025-04-04T15:14:48.537981Z"
    }
   },
   "cell_type": "code",
   "source": [
    "from collections import Counter\n",
    "string = 'thequickbrownfoxjumpsoverthelazydog'\n",
    "counter = Counter(string)\n",
    "for char, count in counter.items():\n",
    "    if count > 1:\n",
    "        print(char, count)\n"
   ],
   "id": "1469d04c4d20b2ae",
   "outputs": [
    {
     "name": "stdout",
     "output_type": "stream",
     "text": [
      "t 2\n",
      "h 2\n",
      "e 3\n",
      "u 2\n",
      "r 2\n",
      "o 4\n"
     ]
    }
   ],
   "execution_count": 10
  },
  {
   "metadata": {},
   "cell_type": "markdown",
   "source": [
    "43. Write a Python program to print the square and cube symbols in the area of a rectangle and\n",
    "the volume of a cylinder"
   ],
   "id": "86ed381e8e254065"
  },
  {
   "metadata": {
    "ExecuteTime": {
     "end_time": "2025-04-04T15:20:56.018166Z",
     "start_time": "2025-04-04T15:20:56.008447Z"
    }
   },
   "cell_type": "code",
   "source": [
    "\n",
    "length = 23.6\n",
    "width = 53.25\n",
    "area = length * width\n",
    "\n",
    "import math\n",
    "radius = 7.5\n",
    "height = 7.1\n",
    "volume = math.pi * radius**2 * height\n",
    "\n",
    "# In kết quả với ký hiệu cm² và cm³\n",
    "print(f\"The area of the rectangle is {area:.2f}cm\\u00b2\")\n",
    "print(f\"The volume of the cylinder is {volume:.3f}cm\\u00b3\")\n"
   ],
   "id": "4daeb4bc7ec4292",
   "outputs": [
    {
     "name": "stdout",
     "output_type": "stream",
     "text": [
      "The area of the rectangle is 1256.70cm²\n",
      "The volume of the cylinder is 1254.674cm³\n"
     ]
    }
   ],
   "execution_count": 11
  },
  {
   "metadata": {},
   "cell_type": "markdown",
   "source": "44.Write a Python program to print the index of a character in a string.",
   "id": "818b21d8b224616d"
  },
  {
   "metadata": {},
   "cell_type": "code",
   "outputs": [],
   "execution_count": null,
   "source": [
    "string = \"w3resource\"\n",
    "\n",
    "for index, char in enumerate(string):\n",
    "    print(f\"Current character {char} position at {index}\")"
   ],
   "id": "80e5d4c890bfecf1"
  },
  {
   "metadata": {},
   "cell_type": "markdown",
   "source": "45. Write a Python program to check whether a string contains all letters of the alphabet",
   "id": "a46f53fc4f64523"
  },
  {
   "metadata": {
    "ExecuteTime": {
     "end_time": "2025-04-04T15:27:08.785551Z",
     "start_time": "2025-04-04T15:27:08.777401Z"
    }
   },
   "cell_type": "code",
   "source": [
    "alphabet = set('abcdefghijklmnopqrstuvwxyz')\n",
    "string = \"abcdefghijklmnopqrstuvwxyz\"\n",
    "if alphabet <= set(string.lower()):\n",
    "    print(\"The string contains all letters of the alphabet\")\n",
    "else:\n",
    "    print(\"The string does not contain all letters of the alphabet\")"
   ],
   "id": "9a7680eb6c820480",
   "outputs": [
    {
     "name": "stdout",
     "output_type": "stream",
     "text": [
      "The string contains all letters of the alphabet\n"
     ]
    }
   ],
   "execution_count": 13
  },
  {
   "metadata": {},
   "cell_type": "markdown",
   "source": "46. Write a Python program to convert a given string into a list of words",
   "id": "8e2ae1c124489b37"
  },
  {
   "metadata": {
    "ExecuteTime": {
     "end_time": "2025-04-04T15:28:57.108545Z",
     "start_time": "2025-04-04T15:28:57.102327Z"
    }
   },
   "cell_type": "code",
   "source": [
    "string = \"The quick brown fox jumps over the lazy dog\"\n",
    "words = string.split()\n",
    "print(words)"
   ],
   "id": "3ccd3ab662caa80e",
   "outputs": [
    {
     "name": "stdout",
     "output_type": "stream",
     "text": [
      "['The', 'quick', 'brown', 'fox', 'jumps', 'over', 'the', 'lazy', 'dog']\n"
     ]
    }
   ],
   "execution_count": 14
  },
  {
   "metadata": {},
   "cell_type": "markdown",
   "source": "47. Write a Python program to lowercase the first n characters in a string.",
   "id": "b007150f26b23224"
  },
  {
   "metadata": {
    "ExecuteTime": {
     "end_time": "2025-04-04T15:34:47.598199Z",
     "start_time": "2025-04-04T15:34:47.590942Z"
    }
   },
   "cell_type": "code",
   "source": [
    "string = 'HELLo python'\n",
    "n = 4\n",
    "print(string[:n].lower()+string[n:])"
   ],
   "id": "fcbbb3110f4e3509",
   "outputs": [
    {
     "name": "stdout",
     "output_type": "stream",
     "text": [
      "hellO PYTHON\n"
     ]
    }
   ],
   "execution_count": 20
  },
  {
   "metadata": {},
   "cell_type": "markdown",
   "source": "48. Write a Python program to swap commas and dots in a string.",
   "id": "2424ac0e76a197d8"
  },
  {
   "metadata": {
    "ExecuteTime": {
     "end_time": "2025-04-04T15:38:00.011403Z",
     "start_time": "2025-04-04T15:38:00.000422Z"
    }
   },
   "cell_type": "code",
   "source": [
    "string = \"32.054,23\"\n",
    "result = string.replace(\",\", \"temp\").replace(\".\", \",\").replace(\"temp\", \".\")\n",
    "print(result)"
   ],
   "id": "c953e1dabc2820ec",
   "outputs": [
    {
     "name": "stdout",
     "output_type": "stream",
     "text": [
      "32,054. 23\n"
     ]
    }
   ],
   "execution_count": 21
  },
  {
   "metadata": {},
   "cell_type": "markdown",
   "source": "49. Write a Python program to count and display vowels in text.\n",
   "id": "c55667d285bc1acd"
  },
  {
   "metadata": {
    "ExecuteTime": {
     "end_time": "2025-04-04T15:40:39.826523Z",
     "start_time": "2025-04-04T15:40:39.819021Z"
    }
   },
   "cell_type": "code",
   "source": [
    "text = 'hello python'\n",
    "vowels = 'aeiouAEIOU'\n",
    "found_vowel = [char for char in text if char in vowels]\n",
    "count = len(found_vowel)\n",
    "print(found_vowel)\n",
    "print(count)"
   ],
   "id": "4c1e0bad8ac73f27",
   "outputs": [
    {
     "name": "stdout",
     "output_type": "stream",
     "text": [
      "['e', 'o', 'o']\n",
      "3\n"
     ]
    }
   ],
   "execution_count": 23
  },
  {
   "metadata": {},
   "cell_type": "markdown",
   "source": "50. Write a Python program to split a string on the last occurrence of the delimiter.",
   "id": "286ee6a4eb538563"
  },
  {
   "metadata": {
    "ExecuteTime": {
     "end_time": "2025-04-04T15:44:25.047737Z",
     "start_time": "2025-04-04T15:44:25.039389Z"
    }
   },
   "cell_type": "code",
   "source": [
    "string = 'hello.python.world'\n",
    "result = string.rsplit('.',1)\n",
    "print(result)"
   ],
   "id": "407915bba62cc4ed",
   "outputs": [
    {
     "name": "stdout",
     "output_type": "stream",
     "text": [
      "['hello.python', 'world']\n"
     ]
    }
   ],
   "execution_count": 24
  }
 ],
 "metadata": {
  "kernelspec": {
   "display_name": "Python 3",
   "language": "python",
   "name": "python3"
  },
  "language_info": {
   "codemirror_mode": {
    "name": "ipython",
    "version": 2
   },
   "file_extension": ".py",
   "mimetype": "text/x-python",
   "name": "python",
   "nbconvert_exporter": "python",
   "pygments_lexer": "ipython2",
   "version": "2.7.6"
  }
 },
 "nbformat": 4,
 "nbformat_minor": 5
}
